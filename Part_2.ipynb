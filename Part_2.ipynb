{
  "nbformat": 4,
  "nbformat_minor": 0,
  "metadata": {
    "colab": {
      "name": "Part_2",
      "provenance": [],
      "private_outputs": true,
      "collapsed_sections": [],
      "authorship_tag": "ABX9TyMccBk56dILKdlfcKbNcrTr",
      "include_colab_link": true
    },
    "kernelspec": {
      "name": "python3",
      "display_name": "Python 3"
    }
  },
  "cells": [
    {
      "cell_type": "markdown",
      "metadata": {
        "id": "view-in-github",
        "colab_type": "text"
      },
      "source": [
        "<a href=\"https://colab.research.google.com/github/WilyLynx/Piekna_corona_python/blob/master/Part_2.ipynb\" target=\"_parent\"><img src=\"https://colab.research.google.com/assets/colab-badge.svg\" alt=\"Open In Colab\"/></a>"
      ]
    },
    {
      "cell_type": "markdown",
      "metadata": {
        "id": "59CGyVo_QU8J",
        "colab_type": "text"
      },
      "source": [
        "# Instrukcje warunkowe, listy, słowniki - ćwiczenia"
      ]
    },
    {
      "cell_type": "markdown",
      "metadata": {
        "id": "7ui0axbiUwZ4",
        "colab_type": "text"
      },
      "source": [
        "## Operacje na listach"
      ]
    },
    {
      "cell_type": "code",
      "metadata": {
        "id": "53QaFkCZQhVm",
        "colab_type": "code",
        "colab": {}
      },
      "source": [
        "# Zadanie 1\n",
        "# Stworzyć tablicę długości 5 z losowymi imionami\n"
      ],
      "execution_count": 0,
      "outputs": []
    },
    {
      "cell_type": "code",
      "metadata": {
        "id": "qz6lKNfdQiop",
        "colab_type": "code",
        "colab": {}
      },
      "source": [
        "# Zadanie 2\n",
        "# Napisać kod który sprawdzi czy lista jest długości 5\n",
        "# Jeżeli tak - wypisać całą listę, jeżeli nie podać komunikat 'lista zbyt długa'\n"
      ],
      "execution_count": 0,
      "outputs": []
    },
    {
      "cell_type": "code",
      "metadata": {
        "id": "d0sSKdozT3LU",
        "colab_type": "code",
        "colab": {}
      },
      "source": [
        "# Zadanie 3\n",
        "# Dodać do istniejącej listy dwie nowe pozycje\n",
        "# Powtórzyć kod z zadania 2, sprawdzić czy otrzymaliśmy spodziewany wynik\n"
      ],
      "execution_count": 0,
      "outputs": []
    },
    {
      "cell_type": "code",
      "metadata": {
        "id": "IDD2Po-oVAOj",
        "colab_type": "code",
        "colab": {}
      },
      "source": [
        "# Zadanie 4\n",
        "# Posortować listę alfabetycznie (znaleźć metodę listy, która to zapewnia)\n",
        "# Wynik zapisać do nowej listy"
      ],
      "execution_count": 0,
      "outputs": []
    },
    {
      "cell_type": "code",
      "metadata": {
        "id": "krJFUXL4VeF-",
        "colab_type": "code",
        "colab": {}
      },
      "source": [
        "# Zdanie 5\n",
        "# Przy pomocy pętli for wypisać wszystkie elementy listy poprzedzone słowem 'czesc '"
      ],
      "execution_count": 0,
      "outputs": []
    },
    {
      "cell_type": "markdown",
      "metadata": {
        "id": "oWccRevuVvYG",
        "colab_type": "text"
      },
      "source": [
        "## Słowniki\n",
        "Słowniki są drugą często spotykaną strukturą danych w pythonie. Słowniki zawierają pary **klucz - wartość**. Dostęp do wartości możemy uzyskać poprzez odpowiedni klucz. Składnia jest bardzo podobna do indeksowania list. `dict_name['key_name']`. Słowniki tworzymy poprzez podanie par klucz wartość wewnątrz nawiasów klamrowych.\n",
        "\n",
        "Poniżej przykład. Stworzymy słownik o nazwie kolega. Wewnątrz umieścimy informacje o jego imieniu, nazwisku, wieku oraz wzroście jako osobne elementy słownika."
      ]
    },
    {
      "cell_type": "code",
      "metadata": {
        "id": "9bBFxcmRW2dM",
        "colab_type": "code",
        "colab": {}
      },
      "source": [
        "# Przykład 1\n",
        "kolega ={\n",
        "    'imie': 'Janusz',\n",
        "    'nazwisko': 'Dębała',\n",
        "    'wiek': 17,\n",
        "    'wzrost': 176\n",
        "}\n",
        "print(kolega)"
      ],
      "execution_count": 0,
      "outputs": []
    },
    {
      "cell_type": "code",
      "metadata": {
        "id": "5Q6HxAS8oVJk",
        "colab_type": "code",
        "colab": {}
      },
      "source": [
        "kolega['imie']"
      ],
      "execution_count": 0,
      "outputs": []
    },
    {
      "cell_type": "code",
      "metadata": {
        "id": "4Bm27nuIpTPJ",
        "colab_type": "code",
        "colab": {}
      },
      "source": [
        "# Zadanie 6\n",
        "# Stworzyć dwa słowniki zawierające dane dwóch kolegów\n",
        "# wypisać każdy słownik\n"
      ],
      "execution_count": 0,
      "outputs": []
    },
    {
      "cell_type": "code",
      "metadata": {
        "id": "vwgD8LAJpjrg",
        "colab_type": "code",
        "colab": {}
      },
      "source": [
        "# Zadanie 7\n",
        "# Stworzyć listę zawierającą stworzone słowniki\n",
        "# Dla każdego elementu tablicy wypisać nazwisko oraz wiek\n"
      ],
      "execution_count": 0,
      "outputs": []
    },
    {
      "cell_type": "code",
      "metadata": {
        "id": "_4kxTV_Kp1LJ",
        "colab_type": "code",
        "colab": {}
      },
      "source": [
        "# Zadanie 8\n",
        "# Obliczyć średni wzrost kolegów (może być w kodzie, może być ręcznie).\n",
        "# Wypisać informacje tylko tych osób, które mają wzrost większy niż średnia\n"
      ],
      "execution_count": 0,
      "outputs": []
    },
    {
      "cell_type": "code",
      "metadata": {
        "id": "w3CV3Off0xHo",
        "colab_type": "code",
        "colab": {}
      },
      "source": [
        "# Zadanie 9\n",
        "# Wykorzystując pętle uzupełnić informacje o pole 'nazwa'. Jako wartość nadać\n",
        "# połączone wartości 'imie' i 'nazwisko'. Jako separator użyć '_'.\n",
        "# Format końcowy 'imie_nazwisko'\n"
      ],
      "execution_count": 0,
      "outputs": []
    },
    {
      "cell_type": "markdown",
      "metadata": {
        "id": "olrM8Vkx2M4X",
        "colab_type": "text"
      },
      "source": [
        "## Funkcje\n",
        "Fukcje czyli fragmenty kodu, które możemy wielokrotnie wykorzystać.\n",
        "\n",
        "Definicję funkcji rozpoczynamy od słowa kluczowego **`def`** dalej podajemy **nazwę funkcji**, a w nawiasach okrągłych listę parametrów. Parametry to obiekty, które są potrzebne funkcji to jej działania."
      ]
    },
    {
      "cell_type": "code",
      "metadata": {
        "id": "I1oWfuCU3II4",
        "colab_type": "code",
        "colab": {}
      },
      "source": [
        "# Przykład 2\n",
        "def suma(a,b):\n",
        "  s = a + b\n",
        "  return s"
      ],
      "execution_count": 0,
      "outputs": []
    },
    {
      "cell_type": "markdown",
      "metadata": {
        "id": "JtoI5k7u3P4S",
        "colab_type": "text"
      },
      "source": [
        "Funkcja `suma` posiada dwa arumenty `a` oraz `b`. Wewnątrz funkcji obliczana jest suma (linijka 3). Wynik funkcji jest zwracany przy pomocy **return**. Niektóre funkcje nie zwracają wyniku - wtedy nie mają return."
      ]
    },
    {
      "cell_type": "code",
      "metadata": {
        "id": "IVdhzlnG329Y",
        "colab_type": "code",
        "colab": {}
      },
      "source": [
        "suma(1,2)"
      ],
      "execution_count": 0,
      "outputs": []
    },
    {
      "cell_type": "markdown",
      "metadata": {
        "id": "iwhEsb8O385o",
        "colab_type": "text"
      },
      "source": [
        "Funkcję możemy wywołać podająć jej nazwę oraz wstawiając parametry."
      ]
    },
    {
      "cell_type": "code",
      "metadata": {
        "id": "Oo4qRlQE3qo9",
        "colab_type": "code",
        "colab": {}
      },
      "source": [
        "# Przykład 3\n",
        "def ile_kluczy_ma_slownik(slownik):\n",
        "  return len(slownik)\n",
        "\n",
        "n_klucze = ile_kluczy_ma_slownik(kolega)\n",
        "print(n_klucze)"
      ],
      "execution_count": 0,
      "outputs": []
    },
    {
      "cell_type": "markdown",
      "metadata": {
        "id": "rj6ikQ3p4MRY",
        "colab_type": "text"
      },
      "source": [
        "Wynik funkcji możemy przypisać do zmiennej i ją później wykorzystać."
      ]
    },
    {
      "cell_type": "code",
      "metadata": {
        "id": "JeX3pinCJ06m",
        "colab_type": "code",
        "colab": {}
      },
      "source": [
        "# Zadanie 10\n",
        "# Przygotować funkcję, która przyjmuję informację o osobie jako słownik oraz\n",
        "# wypiszę nazwisko oraz wiek \n"
      ],
      "execution_count": 0,
      "outputs": []
    },
    {
      "cell_type": "code",
      "metadata": {
        "id": "QfZkm4rlLCcq",
        "colab_type": "code",
        "colab": {}
      },
      "source": [
        "# Zadanie 11\n",
        "# Przygotować funkcję, która wypiszę ostatanią literę imienia \n"
      ],
      "execution_count": 0,
      "outputs": []
    },
    {
      "cell_type": "code",
      "metadata": {
        "id": "cawhkAraLRuC",
        "colab_type": "code",
        "colab": {}
      },
      "source": [
        "# Zadanie 12\n",
        "# Przygotować funkcję, która doda do słownika informację o płci\n",
        "# Jeżeli ostatnią literą osoby jest 'a' płeć ustawić na 'K' - kobieta\n",
        "# w przeciwnym przypadku na 'M' - mężczyzna"
      ],
      "execution_count": 0,
      "outputs": []
    }
  ]
}