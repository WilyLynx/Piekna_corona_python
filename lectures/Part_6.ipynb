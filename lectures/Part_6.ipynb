{
  "nbformat": 4,
  "nbformat_minor": 0,
  "metadata": {
    "colab": {
      "name": "Untitled8.ipynb",
      "provenance": [],
      "private_outputs": true,
      "authorship_tag": "ABX9TyPc+rWFwz7r142N3GC1QD5s",
      "include_colab_link": true
    },
    "kernelspec": {
      "name": "python3",
      "display_name": "Python 3"
    }
  },
  "cells": [
    {
      "cell_type": "markdown",
      "metadata": {
        "id": "view-in-github",
        "colab_type": "text"
      },
      "source": [
        "<a href=\"https://colab.research.google.com/github/WilyLynx/Piekna_corona_python/blob/master/Part_6.ipynb\" target=\"_parent\"><img src=\"https://colab.research.google.com/assets/colab-badge.svg\" alt=\"Open In Colab\"/></a>"
      ]
    },
    {
      "cell_type": "markdown",
      "metadata": {
        "id": "1CheLt6FmPsH",
        "colab_type": "text"
      },
      "source": [
        "# Part 6 - Git\n",
        "\n",
        "Git jest rozproszonym systemem kontrolii wersji. "
      ]
    },
    {
      "cell_type": "markdown",
      "metadata": {
        "id": "A8yBQjzQmdYK",
        "colab_type": "text"
      },
      "source": [
        "## Instalacja\n",
        "\n",
        "Na początek musimy się upewnić, że w naszym systemie zainstalowano program GIT.\n",
        "\n",
        "1. Wchodzimy na stronę [git-scm](https://git-scm.com/downloads) i pobieramy klienta GIT-a. Dostępne są wersje dla wszystkich popularnych systemów operacyjnych oraz wersje z interfejsem graficznym.\n",
        "2. Przechodzimy instalację.\n",
        "3. Uruchamiamy wiersz poleceń (Windows - Git Bash, cmd; Linux / Mac - terminal)\n",
        "4. Weryfikujemy instalację poleceniem `git --version`\n",
        "\n",
        "Interfejs graficzny oferuje jednak mniejsze możliwości niż zwykły wiersz poleceń. W dalszej części omawiany będzie jedynie wiersz poleceń."
      ]
    },
    {
      "cell_type": "markdown",
      "metadata": {
        "id": "-aAlRokqnhDi",
        "colab_type": "text"
      },
      "source": [
        "## Pobranie pierwszego projektu\n",
        "\n",
        "Załóżmy, że założyliśmy projekt w jednym z serwisów oferujących hostowanie repozytoriów git-a. Chcemy pobrać ten projekt na swój komputer.\n",
        "\n",
        "1. Uruchamiamy wiersz poleceń\n",
        "2. Przechodzimy do folderu, w którym chcemy umieścić projekt.\n",
        "3. Przechodzimy na stronę projektu. Kopiujemy link do projektu (zwykle pod przyciskiem *Clone*). Możemy wybrać autoryzację poprzez HTTPS (polecam na początek) lub SSH.\n",
        "4. W konsoli wpisujemy polecenie:\n",
        "`git clone 'skopiowany link do repozytorium'`\n",
        "5. Sprawdzamy czy został utworzony podfolder zawierający cały projekt."
      ]
    },
    {
      "cell_type": "markdown",
      "metadata": {
        "id": "NTTr7qehp-AC",
        "colab_type": "text"
      },
      "source": [
        "## Podstawowe pojęcia\n",
        "\n",
        "Wewnątrz projektu znajdziemy ukryty folder `.git` - wewnątrz niego git przechowuje wszystkie informacje na temat zmian w naszym projekcie.\n",
        "\n",
        "Zwykle projekt zawiera także plik `.gitignore`. Wewnątrz zawarte są informacje na temat plików / folderów, których zmiany mają być ignorowane.\n",
        "\n",
        "Podstawowym pojęciem jest **commit**. Można to pojęcie interpretować jako *paczka zmian* dodana do repozytorium. Taka paczka może być zmianą dowolnej wersji kodu, a więc może to być poprawka do wersji zdefiniowanej przez inny commit. W rezultacie możemy powiedzieć, że wszystkie zmiany układają się pewien graf.\n",
        "\n",
        "![git-graph](https://i.stack.imgur.com/k5Gdu.png)\n",
        "\n",
        "Commity są reprezentowane poprzez unikalny identyfikator. Posługiwanie się tymi numerami byłoby jednak uciążliwe, dlatego używa się pojęcia **branch** (gałąź). Branch jest to wskaźnik na pewien commit. Zwyczajowo branch **master** jest główną gałęzią w repozytorium i wskazuje na ostatnią stabilną wersję projektu. Inne branche opisują prace, które trwają i nie zostały jeszcze zakończone / zatwierdzone, np. develop, feature, fix, hotfix ..."
      ]
    },
    {
      "cell_type": "markdown",
      "metadata": {
        "id": "7gsTmgDypk90",
        "colab_type": "text"
      },
      "source": [
        "## Podstawowa praca z git-em\n",
        "\n",
        "Omówimy podstawowy scenariusz pracy z system git na przykładzie chęci wprowadzenia zmiany w projekcie. Zakładamy, że default branch to master.\n",
        "\n",
        "1. Przechodzimy na branch master jeżeli jesteśmy na innym `git checkout master`\n",
        "2. Pobieramy najnowsze zmiany innych osób z repozytorium globalnego `git pull`\n",
        "3. Tworzymy nowy branch na którym będziemy pracować `git checkout -b <nazwa>`\n",
        "4. Wprowadzamy zmiany, np tworzymy lub zmieniamy plik\n",
        "5. Przygotowujemy commit (paczkę zmian). Dodajemy wszystkie pliki jakie chcemy umieścić w commitcie poprzez polecenie `git add <ścieżka do pliku>`\n",
        "6. Tworzymy commit `git commit -m \"treść wiadomości\"`. Wewnątrz wiadomości warto napisać czego dotyczą nasze zmiany, np \"Add user authentication service\"\n",
        "7. Jeżeli uznajemy, że zakończyliśmy pracę synchronizujemy nasze repozytorium z repozytorium globalnym `git push`.\n",
        "8. Poprzez serwis internetowy możemy poprosić innych użytkowników o dołączenia naszych zmian z naszej gałęzi do gałęzi master, czyli do wersji stabilnej projektu. Mechanizmem służącym do tego jest **pull request** / **merge request** (dialekt zależy od wybranego serwisu). \n",
        "9. Po zaakceptowaniu możemy pobrać najnowszą wesję brancha master i sprawdzić nasze poprawki.\n",
        "\n",
        "`git checkout master`\n",
        "\n",
        "`git pull`\n",
        "\n",
        "`git log --oneline --graph`"
      ]
    },
    {
      "cell_type": "markdown",
      "metadata": {
        "id": "HnktEiGNvJ-X",
        "colab_type": "text"
      },
      "source": [
        "## Co dalej\n",
        "\n",
        "Oczywiście taka wiedza nie wystarczy nam do wszystkiego. Jeżeli ktoś jest zainteresowany jak działa git polecam na początek:\n",
        "- [oficjalną dokumentację](https://git-scm.com/doc) - nie czytać od deski do deski \n",
        "- [tutorial na stronie bitbucket](https://www.atlassian.com/git/tutorials/learn-git-with-bitbucket-cloud) - sam od tego zaczynałem\n",
        "\n",
        "Oczywiście w internecie można znaleź wiele innych kursów, książek itp zarówno po polsku jak i po angielsku, ale w moim odczuciu lepsze są materiały po angielsku, ponieważ jest ich po prostu więcej oraz nie mają problemów z tłumaczeniem. "
      ]
    }
  ]
}