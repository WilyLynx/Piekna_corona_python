{
  "nbformat": 4,
  "nbformat_minor": 0,
  "metadata": {
    "colab": {
      "name": "Part_3",
      "provenance": [],
      "private_outputs": true,
      "collapsed_sections": [],
      "toc_visible": true,
      "authorship_tag": "ABX9TyMx8QpCYMYjaXfoaCzUTbJd",
      "include_colab_link": true
    },
    "kernelspec": {
      "name": "python3",
      "display_name": "Python 3"
    }
  },
  "cells": [
    {
      "cell_type": "markdown",
      "metadata": {
        "id": "view-in-github",
        "colab_type": "text"
      },
      "source": [
        "<a href=\"https://colab.research.google.com/github/WilyLynx/Piekna_corona_python/blob/master/Part_3.ipynb\" target=\"_parent\"><img src=\"https://colab.research.google.com/assets/colab-badge.svg\" alt=\"Open In Colab\"/></a>"
      ]
    },
    {
      "cell_type": "markdown",
      "metadata": {
        "id": "8ZpXwBrGfOU1",
        "colab_type": "text"
      },
      "source": [
        "# Pakiety, metody i inne super-moce\n",
        "\n"
      ]
    },
    {
      "cell_type": "markdown",
      "metadata": {
        "id": "Ss17jqyJmyHE",
        "colab_type": "text"
      },
      "source": [
        "## Pandas\n",
        "![Panda](https://encrypted-tbn0.gstatic.com/images?q=tbn%3AANd9GcR1bFV2PWd3lpA3UwLk3tNCXO5vaAS-Rx2iFh8Xi1nOsVjaJaYy&usqp=CAU)\n",
        "\n",
        "`import Pandas as pd`\n",
        "\n",
        "Pandas jest pakietem umożliwiającym pracę z ramkami danych.\n"
      ]
    },
    {
      "cell_type": "markdown",
      "metadata": {
        "id": "aTIxNX68jkvs",
        "colab_type": "text"
      },
      "source": [
        "### Wczytanie pakietów"
      ]
    },
    {
      "cell_type": "code",
      "metadata": {
        "id": "GCzDAE7-fwLt",
        "colab_type": "code",
        "colab": {}
      },
      "source": [
        "import pandas as pd\n",
        "import numpy as np"
      ],
      "execution_count": 0,
      "outputs": []
    },
    {
      "cell_type": "markdown",
      "metadata": {
        "id": "7j4ja_rtjrwl",
        "colab_type": "text"
      },
      "source": [
        "### Wczytanie danych\n",
        "Dzisiaj będziemy przeglądać dane dotyczące kosaćców\n"
      ]
    },
    {
      "cell_type": "code",
      "metadata": {
        "id": "d-sGRox8imTP",
        "colab_type": "code",
        "colab": {}
      },
      "source": [
        "data = pd.read_csv('https://gist.githubusercontent.com/netj/8836201/raw/6f9306ad21398ea43cba4f7d537619d0e07d5ae3/iris.csv')\n",
        "data.head()"
      ],
      "execution_count": 0,
      "outputs": []
    },
    {
      "cell_type": "markdown",
      "metadata": {
        "id": "EwharaFal47h",
        "colab_type": "text"
      },
      "source": [
        "### Ciekawostka dotycząca cech, które tutaj występują\n",
        "- sepal - działka kielicha\n",
        "- petal - płatek\n",
        "![kwiatek](https://upload.wikimedia.org/wikipedia/commons/thumb/7/7f/Mature_flower_diagram.svg/1200px-Mature_flower_diagram.svg.png)"
      ]
    },
    {
      "cell_type": "code",
      "metadata": {
        "id": "cpWeDKY6kAG1",
        "colab_type": "code",
        "colab": {}
      },
      "source": [
        "# Policzmy ile jest obserwacji\n",
        "data.count()"
      ],
      "execution_count": 0,
      "outputs": []
    },
    {
      "cell_type": "code",
      "metadata": {
        "id": "6pDhWwB7kUmc",
        "colab_type": "code",
        "colab": {}
      },
      "source": [
        "# Dostęp do poszczególnych wartości\n",
        "# print(data[0][0]) # Coś takiego nie działa, to nie jest tablica 2D\n",
        "print(data['sepal.length'][0]) # pojedynczy element\n",
        "print()\n",
        "print(data['sepal.length']) # cała kolumna"
      ],
      "execution_count": 0,
      "outputs": []
    },
    {
      "cell_type": "markdown",
      "metadata": {
        "id": "Xby38Ygkoxww",
        "colab_type": "text"
      },
      "source": [
        "### Wybieranie kolumn\n",
        "Czasami nie są nam potrzebne wszystkie kolumny. "
      ]
    },
    {
      "cell_type": "code",
      "metadata": {
        "id": "PeN2QhI0pElK",
        "colab_type": "code",
        "colab": {}
      },
      "source": [
        "sepal_width = data['sepal.width']\n",
        "sepal_width.head()"
      ],
      "execution_count": 0,
      "outputs": []
    },
    {
      "cell_type": "code",
      "metadata": {
        "id": "RgNCr6mnpZR8",
        "colab_type": "code",
        "colab": {}
      },
      "source": [
        "sepal_df = data[['sepal.width', 'sepal.length', 'variety']]\n",
        "sepal_df.head()"
      ],
      "execution_count": 0,
      "outputs": []
    },
    {
      "cell_type": "markdown",
      "metadata": {
        "id": "px27pZJhmr9P",
        "colab_type": "text"
      },
      "source": [
        "### Podstawowa statystyka"
      ]
    },
    {
      "cell_type": "code",
      "metadata": {
        "id": "S3Pjnidnk9-t",
        "colab_type": "code",
        "colab": {}
      },
      "source": [
        "data.min() # minimum dla każdej cechy"
      ],
      "execution_count": 0,
      "outputs": []
    },
    {
      "cell_type": "code",
      "metadata": {
        "id": "8FiOr19Vm_Y5",
        "colab_type": "code",
        "colab": {}
      },
      "source": [
        "data['petal.length'].min() # minimum dla jednej cechy"
      ],
      "execution_count": 0,
      "outputs": []
    },
    {
      "cell_type": "markdown",
      "metadata": {
        "id": "KIko6y61nJXX",
        "colab_type": "text"
      },
      "source": [
        "**Zadanie 1**\n",
        "\n",
        "Dla każdej cechy znaleźć medianę, maksimum oraz średnią wartość.\n",
        "Ile gatunków kosaćców występuje w zbiorze?"
      ]
    },
    {
      "cell_type": "code",
      "metadata": {
        "id": "PnYrJMQcoUeL",
        "colab_type": "code",
        "colab": {}
      },
      "source": [
        "# miejsce na rozwiązanie"
      ],
      "execution_count": 0,
      "outputs": []
    },
    {
      "cell_type": "markdown",
      "metadata": {
        "id": "5aKYX5E9p5vv",
        "colab_type": "text"
      },
      "source": [
        "### Grupowanie\n",
        "Czasami nasze obserwacje chcemy podzielić na grupy, np. po gatunku. Następnie możemy użyć wcześniej poznanych metod statystycznych."
      ]
    },
    {
      "cell_type": "code",
      "metadata": {
        "id": "_VpCADjnqMF4",
        "colab_type": "code",
        "colab": {}
      },
      "source": [
        "data.groupby('variety').size()"
      ],
      "execution_count": 0,
      "outputs": []
    },
    {
      "cell_type": "code",
      "metadata": {
        "id": "uLn1yTKeqtog",
        "colab_type": "code",
        "colab": {}
      },
      "source": [
        "data.groupby('variety').min()"
      ],
      "execution_count": 0,
      "outputs": []
    },
    {
      "cell_type": "markdown",
      "metadata": {
        "id": "W3632bLGr5eM",
        "colab_type": "text"
      },
      "source": [
        "## Webscrapping - requests + beautifulsoup4"
      ]
    },
    {
      "cell_type": "markdown",
      "metadata": {
        "id": "SCLZs0ilsJ6i",
        "colab_type": "text"
      },
      "source": [
        "### Wczytywanie pakietów"
      ]
    },
    {
      "cell_type": "code",
      "metadata": {
        "id": "q6I-YfUnsNDN",
        "colab_type": "code",
        "colab": {}
      },
      "source": [
        "import requests\n",
        "from bs4 import BeautifulSoup"
      ],
      "execution_count": 0,
      "outputs": []
    },
    {
      "cell_type": "markdown",
      "metadata": {
        "id": "-jqLXBZfsk2j",
        "colab_type": "text"
      },
      "source": [
        "### Czym jest web scrapping ?\n",
        "Niektóre firmy udostępniają swoje dane w przystępny sposób, np w postaci serwisów REST. Poniżej mamy przykład w jaki sposób GitHub odpowiada na pytanie o repozytorium projektu."
      ]
    },
    {
      "cell_type": "code",
      "metadata": {
        "id": "-3hGMGBYvfpL",
        "colab_type": "code",
        "colab": {}
      },
      "source": [
        "requests.request(url='https://api.github.com/repos/WilyLynx/Piekna_corona_python', method='GET').content"
      ],
      "execution_count": 0,
      "outputs": []
    },
    {
      "cell_type": "markdown",
      "metadata": {
        "id": "gMfkV1wfxMgZ",
        "colab_type": "text"
      },
      "source": [
        "Czasami jednak nie jest tak kolorowo. Czasami dane są prezentowane, ale jedynie w postaci np. wpisów na stronie. Pozyskiwanie danych tego typu nazywamy - web scrapping.\n",
        "\n",
        "Dzisiaj postaramy się wyciągnąć dane dotyczące zachorowań na COVID-19 w powiecie mińskim.\n"
      ]
    },
    {
      "cell_type": "markdown",
      "metadata": {
        "id": "SufG4DPq75w-",
        "colab_type": "text"
      },
      "source": [
        "### Dane dla powiatu mińskiego"
      ]
    },
    {
      "cell_type": "code",
      "metadata": {
        "id": "j0nDkdi3xjlk",
        "colab_type": "code",
        "colab": {}
      },
      "source": [
        "site = requests.request('GET', 'http://minsk.psse.waw.pl/4786').content\n",
        "print(site)"
      ],
      "execution_count": 0,
      "outputs": []
    },
    {
      "cell_type": "markdown",
      "metadata": {
        "id": "xdXTNSgV0NTO",
        "colab_type": "text"
      },
      "source": [
        "Obserwacja nr 1 - strona to tak na prawdę długi tekst\n",
        "\n",
        "Obserwacja nr 2 - ten tekst ma specyficzny układ\n",
        "\n",
        "Wchodzimy na stronę sanepidu i wciskamy F12\n",
        "\n",
        "Pakiet BeautifulSoup ułatwi nam wyszukiwanie elementów w stronie."
      ]
    },
    {
      "cell_type": "code",
      "metadata": {
        "id": "P0LILuPZ1Azw",
        "colab_type": "code",
        "colab": {}
      },
      "source": [
        "soup = BeautifulSoup(site, 'html.parser')"
      ],
      "execution_count": 0,
      "outputs": []
    },
    {
      "cell_type": "markdown",
      "metadata": {
        "id": "V2TcM3Vo1aC1",
        "colab_type": "text"
      },
      "source": [
        "[Dokumentacja projektu](https://www.crummy.com/software/BeautifulSoup/bs4/doc/)\n",
        "\n",
        "Obserwacja nr 3 - wszystkie interesujące nas dane znajdują się wewnątrz znacznika `<div class='article_inside'>`. Znajdźmy ten znacznik w stronie i sprawdźmy, czy jest tylko jeden taki znacznik."
      ]
    },
    {
      "cell_type": "code",
      "metadata": {
        "id": "gJAp1Ogx2DLf",
        "colab_type": "code",
        "colab": {}
      },
      "source": [
        "len(soup.find_all('div', {'class':'article_inside'}))"
      ],
      "execution_count": 0,
      "outputs": []
    },
    {
      "cell_type": "markdown",
      "metadata": {
        "id": "RRe1O8g82uB2",
        "colab_type": "text"
      },
      "source": [
        "Zobaczmy teraz co jest w średku."
      ]
    },
    {
      "cell_type": "code",
      "metadata": {
        "id": "v5eC4Ky923ak",
        "colab_type": "code",
        "colab": {}
      },
      "source": [
        "articles = soup.find_all('div', {'class':'article_inside'})[0]\n",
        "for article in articles.find_all('div', {'class':'ce_text'}):\n",
        "  print(article)"
      ],
      "execution_count": 0,
      "outputs": []
    },
    {
      "cell_type": "markdown",
      "metadata": {
        "id": "oX681UvN4ijs",
        "colab_type": "text"
      },
      "source": [
        "Całkiem nieźle, ale miejscami pojawiają się jakieś komunikaty dla podróżnych, które nie bardzo nas interesują. Musimy dodać małe filtrowanie"
      ]
    },
    {
      "cell_type": "code",
      "metadata": {
        "id": "hasCDsUb5C2A",
        "colab_type": "code",
        "colab": {}
      },
      "source": [
        "filer_text = 'powiatu mińskiego związaną z koronawirusem'\n",
        "articles = soup.find_all('div', {'class':'article_inside'})[0]\n",
        "messages = articles.find_all('div', {'class':'ce_text'})\n",
        "filtered_messages = [msg for msg in messages if filer_text in str(msg)]\n",
        "print(*filtered_messages, sep='\\n')"
      ],
      "execution_count": 0,
      "outputs": []
    },
    {
      "cell_type": "markdown",
      "metadata": {
        "id": "x6qZxD3e7v7j",
        "colab_type": "text"
      },
      "source": [
        "Na przykładzie pierwszego wpisu spróbujmy dojść do interesujących nas danych. Interesuje nas:\n",
        "- data\n",
        "- kwarantanna domowa\n",
        "- hospitalizowani podejrzani\n",
        "- potwierdzone przypadki\n",
        "- zgony\n",
        "- ozdrowieńcy\n",
        "\n",
        "Dane będziemy przechowywać w prostej liście"
      ]
    },
    {
      "cell_type": "code",
      "metadata": {
        "id": "uBcG2bLdAy2l",
        "colab_type": "code",
        "colab": {}
      },
      "source": [
        "first_msg = filtered_messages[0]\n",
        "\n",
        "data = [] # lista na wszystkie wiadomości\n",
        "msg_data =[] # lista na wartości dla jednej wiadomości\n",
        "msg_data.append(first_msg.contents[2].contents[0].contents[0].contents[0][:10]) # pierwsze 10 znaków\n",
        "print(msg_data)"
      ],
      "execution_count": 0,
      "outputs": []
    },
    {
      "cell_type": "code",
      "metadata": {
        "id": "sL3gCQwm8bPH",
        "colab_type": "code",
        "colab": {}
      },
      "source": [
        "\n",
        "for ul in first_msg.find_all('ul'):\n",
        "  for li in ul.find_all('li'):\n",
        "    print(li)"
      ],
      "execution_count": 0,
      "outputs": []
    },
    {
      "cell_type": "code",
      "metadata": {
        "id": "1B7SuDGP9By5",
        "colab_type": "code",
        "colab": {}
      },
      "source": [
        "rows = first_msg.find('ul').find_all('li')\n",
        "msg_data.append(int([r for r in rows if 'kwarantanną' in str(r)][0].contents[3].contents[0]))\n",
        "msg_data.append(int([r for r in rows if 'hospitalizowanych ' in str(r)][0].contents[3].contents[0]))\n",
        "msg_data.append(int([r for r in rows if 'potwierdzonych' in str(r)][0].contents[3].contents[0]))\n",
        "msg_data.append(int([r for r in rows if 'ozdrowieńców' in str(r)][0].contents[3].contents[0]))\n",
        "\n",
        "data.append(msg_data)\n",
        "print(data)"
      ],
      "execution_count": 0,
      "outputs": []
    },
    {
      "cell_type": "markdown",
      "metadata": {
        "id": "MPZGWGbhBVwK",
        "colab_type": "text"
      },
      "source": [
        "Teraz stworzymy sobie naszą własną ramkę danych do łatwiejszego przechowywania."
      ]
    },
    {
      "cell_type": "code",
      "metadata": {
        "id": "e-BGOH3yBlqn",
        "colab_type": "code",
        "colab": {}
      },
      "source": [
        "minsk_df = pd.DataFrame(data, columns = ['data', 'kwarantanna', 'hospitalizowani', 'potwierdzeni', 'ozdrowieńcy'])\n",
        "minsk_df.head()"
      ],
      "execution_count": 0,
      "outputs": []
    },
    {
      "cell_type": "markdown",
      "metadata": {
        "id": "RNhxyrpHFCvP",
        "colab_type": "text"
      },
      "source": [
        "Chyba wszystko działa. Spróbujmy teraz powtórzyć to dla wszystkich wiadomości"
      ]
    },
    {
      "cell_type": "code",
      "metadata": {
        "id": "nQ5O-KleFQQ9",
        "colab_type": "code",
        "colab": {}
      },
      "source": [
        "data = [] # lista na wszystkie wiadomości\n",
        "for msg in filtered_messages:\n",
        "  try: # czasami się coś nie udaje wtedy pojawia się błąd (wyjątek)\n",
        "    msg_data =[]\n",
        "    # data\n",
        "    msg_data.append(msg.contents[2].contents[0].contents[0].contents[0][:10]) # pierwsze 10 znaków\n",
        "    # cechy\n",
        "    rows = msg.find('ul').find_all('li')\n",
        "    msg_data.append(int([r for r in rows if 'kwarantanną' in str(r)][0].contents[3].contents[0]))\n",
        "    msg_data.append(int([r for r in rows if 'hospitalizowanych ' in str(r)][0].contents[3].contents[0]))\n",
        "    msg_data.append(int([r for r in rows if 'potwierdzonych' in str(r)][0].contents[3].contents[0]))\n",
        "    msg_data.append(int([r for r in rows if 'ozdrowieńców' in str(r)][0].contents[3].contents[0]))\n",
        "\n",
        "    data.append(msg_data)\n",
        "  except:\n",
        "    pass # udajemy że nie widzimy błędu i lecimy dalej\n",
        "\n",
        "minsk_df = pd.DataFrame(data, columns = ['data', 'kwarantanna', 'hospitalizowani', 'potwierdzeni', 'ozdrowieńcy'])\n",
        "minsk_df.loc[:, 'data'] = pd.to_datetime(minsk_df['data'])\n",
        "minsk_df = minsk_df.set_index('data')\n",
        "minsk_df"
      ],
      "execution_count": 0,
      "outputs": []
    },
    {
      "cell_type": "markdown",
      "metadata": {
        "id": "aE3pKyaYIvPr",
        "colab_type": "text"
      },
      "source": [
        "Coś mało tych danych. Jednak musimy się bardziej postarać. Wygląda na to, że jest problem z datą. Musimy to zrobić w inny sposób. Spróbujemy wyciągnąć datę z nagłówka."
      ]
    },
    {
      "cell_type": "code",
      "metadata": {
        "id": "q8XBYFk8RXRy",
        "colab_type": "code",
        "colab": {}
      },
      "source": [
        "import re\n",
        "match = re.search('\\d{2}\\.\\d{2}\\.2020','Komunikat Państwowego Powiatowego Inspektora Sanitarnego w Mińsku Mazowieckim  z dnia 19.04.2020 r. przeds')\n",
        "match.group(0)"
      ],
      "execution_count": 0,
      "outputs": []
    },
    {
      "cell_type": "code",
      "metadata": {
        "id": "dyeMFgqIIzMV",
        "colab_type": "code",
        "colab": {}
      },
      "source": [
        "import re\n",
        "data = [] # lista na wszystkie wiadomości\n",
        "for msg in filtered_messages:\n",
        "  try:\n",
        "    msg_data =[]\n",
        "    # data\n",
        "    if len(msg.find_all('h3')) > 0:\n",
        "      header = msg.find_all('h3')[0]\n",
        "    else:\n",
        "      header = msg.find_all('em')[0]\n",
        "    match = re.search('\\d{2}\\.\\d{2}\\.2020',str(header))\n",
        "    date = match.group(0)\n",
        "    msg_data.append(date)\n",
        "\n",
        "    # cechy\n",
        "    rows = msg.find('ul').find_all('li')\n",
        "    try:\n",
        "      msg_data.append(int([r for r in rows if 'kwarantanną' in str(r)][0].contents[3].contents[0]))\n",
        "    except Exception:\n",
        "      msg_data.append(None)\n",
        "\n",
        "    try:\n",
        "      msg_data.append(int([r for r in rows if 'hospitalizowanych ' in str(r)][0].contents[3].contents[0]))\n",
        "    except Exception:\n",
        "      msg_data.append(None)\n",
        "\n",
        "    try:\n",
        "      msg_data.append(int([r for r in rows if 'potwierdzonych' in str(r)][0].contents[3].contents[0]))\n",
        "    except Exception:\n",
        "      msg_data.append(None)\n",
        "\n",
        "    try:\n",
        "      msg_data.append(int([r for r in rows if 'ozdrowieńców' in str(r)][0].contents[3].contents[0]))\n",
        "    except Exception:\n",
        "      msg_data.append(None)\n",
        "\n",
        "    data.append(msg_data)\n",
        "  except Exception:\n",
        "    pass\n",
        "\n",
        "minsk_df = pd.DataFrame(data, columns = ['data', 'kwarantanna', 'hospitalizowani', 'potwierdzeni', 'ozdrowieńcy'])\n",
        "minsk_df.loc[:, 'data'] = pd.to_datetime(minsk_df['data'],format='%d.%m.%Y')\n",
        "minsk_df = minsk_df.set_index('data')\n",
        "minsk_df"
      ],
      "execution_count": 0,
      "outputs": []
    },
    {
      "cell_type": "markdown",
      "metadata": {
        "id": "fbjphUTvFp1_",
        "colab_type": "text"
      },
      "source": [
        "Zobaczmy jak zmieniała się liczba osób w kwarantannie"
      ]
    },
    {
      "cell_type": "code",
      "metadata": {
        "id": "SFYkqVpWGORB",
        "colab_type": "code",
        "colab": {}
      },
      "source": [
        "import matplotlib.pyplot as plt\n",
        "# Display figures inline in Jupyter notebook\n",
        "import seaborn as sns\n",
        "# Use seaborn style defaults and set the default figure size\n",
        "sns.set(rc={'figure.figsize':(11, 4)})\n",
        "\n",
        "minsk_df['kwarantanna'].plot(linewidth=0.5);"
      ],
      "execution_count": 0,
      "outputs": []
    }
  ]
}