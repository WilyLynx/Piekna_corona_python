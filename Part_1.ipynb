{
  "nbformat": 4,
  "nbformat_minor": 0,
  "metadata": {
    "colab": {
      "name": "Python_podstawy.ipynb",
      "provenance": [],
      "private_outputs": true,
      "authorship_tag": "ABX9TyP/51l+uqZ20YUrIlWJ3z9R",
      "include_colab_link": true
    },
    "kernelspec": {
      "name": "python3",
      "display_name": "Python 3"
    }
  },
  "cells": [
    {
      "cell_type": "markdown",
      "metadata": {
        "id": "view-in-github",
        "colab_type": "text"
      },
      "source": [
        "<a href=\"https://colab.research.google.com/github/WilyLynx/Piekna_corona_python/blob/master/Part_1.ipynb\" target=\"_parent\"><img src=\"https://colab.research.google.com/assets/colab-badge.svg\" alt=\"Open In Colab\"/></a>"
      ]
    },
    {
      "cell_type": "markdown",
      "metadata": {
        "id": "1IIGdcrqB_V2",
        "colab_type": "text"
      },
      "source": [
        "##Podstawy języka python\n",
        "Dlaczego właśnie python?\n",
        "- język interpretowany\n",
        "- czytelność kodu\n",
        "- stosunkowo łatwy do nauki\n",
        "- popularny\n",
        "\n",
        "![Popularność języków programowania 2010-2020](https://hackernoon.com/hn-images/1*eB5biUdLZKv7_Fk2Aw8gbw.png)\n",
        "\n",
        "*Źródło: StackOverflow*"
      ]
    },
    {
      "cell_type": "markdown",
      "metadata": {
        "id": "n04Fg2I5ESzZ",
        "colab_type": "text"
      },
      "source": [
        "### Krótki poradnik jak używać notebooka Jupyter\n",
        "Jupyter składa się komórek dwóch typów:\n",
        "1. tekstowych - nic szczególnego \n",
        "2. kod - ciekawsze\n",
        "\n",
        "Jeżeli chcecie edytować notebook musicie zapisać sobie jego kopię. Najprostszy sposób to wejście przez File -> Save a copy in Drive. W ten sposób zapiszecie kopię tego notebooka na swoim Google Drive (trzeba mieć konto na Google). \n",
        "\n",
        "Jeżeli chcecie edytować komórkę wystarczy kliknąć dwukrotnie. \n",
        "\n",
        "Przejdźmy teraz do uruchamiania komórek. \n",
        "1. Klikamy w komórkę z kodem\n",
        "2. Ikonka play po lewo lub Ctrl + Enter"
      ]
    },
    {
      "cell_type": "code",
      "metadata": {
        "id": "0NSNUj-QIk4T",
        "colab_type": "code",
        "colab": {}
      },
      "source": [
        "# Zadanie 1: \n",
        "# uruchom tą komórkę\n",
        "print(\"Hello world!!!\")"
      ],
      "execution_count": 0,
      "outputs": []
    },
    {
      "cell_type": "markdown",
      "metadata": {
        "id": "EaG5g7yEL730",
        "colab_type": "text"
      },
      "source": [
        "### Zmienne i wypisywanie \n",
        "Zmienne są pewną nazwą, która programista przydziela liczbom, napisom...\n",
        "W odróżnieniu od np C++ przy deklaracji zmiennej nie musimy podawać typu zmiennej. Typ jest określany w momencie pierwszego przypisania."
      ]
    },
    {
      "cell_type": "code",
      "metadata": {
        "id": "JTiAhsTqRQcU",
        "colab_type": "code",
        "colab": {}
      },
      "source": [
        "a = 4 # przypisanie wartości 4 do zmiennej a\n",
        "b = \"tekst\" # przypisanie wartości \"tekst\" do zmiennej b"
      ],
      "execution_count": 0,
      "outputs": []
    },
    {
      "cell_type": "markdown",
      "metadata": {
        "id": "Ke4U1yltRndL",
        "colab_type": "text"
      },
      "source": [
        "Dwa podstawowe typy do oczywiście liczby i napisy. \n",
        "\n",
        "W pythonie nie ma rozróżnienia pomiędzy liczbami całkowitymi (int) oraz zmiennoprzecinkowymi (float, double).\n",
        "\n",
        "Pracując z napisami należy pamiętać, że napis musimy zawieścić wewnątrz znaków \"\" lub ''.\n",
        "\n",
        "Na początek przyda nam się też funkcja print, dzięki której możemy wypisać rezultat programu."
      ]
    },
    {
      "cell_type": "code",
      "metadata": {
        "id": "XkDV9IISSs69",
        "colab_type": "code",
        "colab": {}
      },
      "source": [
        "num = 3\n",
        "text = \"tekst 2\"\n",
        "print(num)\n",
        "print(text)"
      ],
      "execution_count": 0,
      "outputs": []
    },
    {
      "cell_type": "markdown",
      "metadata": {
        "id": "BmqGr8eATR_h",
        "colab_type": "text"
      },
      "source": [
        "Co jeżeli chcemy złożyć napis z kilku zmiennych?\n",
        "\n",
        "Oczywiście jest kilka opcji:\n",
        "1. użycie + służącego do łączenia napisów\n",
        "2. wykorzystanie metody str.format\n"
      ]
    },
    {
      "cell_type": "code",
      "metadata": {
        "id": "NvIT00njUOLV",
        "colab_type": "code",
        "colab": {}
      },
      "source": [
        "x1 = '1'\n",
        "y1 = '2'\n",
        "x2 = '2'\n",
        "y2 = '3'\n",
        "function_name = \"linear\"\n",
        "function_eq = 'f(x)=x+1'\n",
        "print('Function name: ' + function_name)\n",
        "print('Equation: ' + function_eq)\n",
        "print('Example values:')\n",
        "print('x = {} y = {}'.format(x1, y1))\n",
        "print('x = {} y = {}'.format(x2, y2))"
      ],
      "execution_count": 0,
      "outputs": []
    },
    {
      "cell_type": "markdown",
      "metadata": {
        "id": "n7F5G96jWz5z",
        "colab_type": "text"
      },
      "source": [
        "Składnia `napis1 + napis2` oznacza tyle co 'połącz napis1 oraz napis2 i zwróć rezultat'.\n",
        "\n",
        "W przypadku metody format `{}` symbolizuje miejsce w który ma być wstawiona kolejna zmienna podana w metodzie format. Uwaga na kropkę przed format !!!"
      ]
    },
    {
      "cell_type": "code",
      "metadata": {
        "id": "6-Jsy6L1X6hK",
        "colab_type": "code",
        "colab": {}
      },
      "source": [
        "# Zadanie 2\n",
        "# Napisz kod który wypiszę podany napis\n",
        "# Nazywam sie !imie! . Moje nazwisko to !nazwisko! .\n",
        "# zamiast !imie!, !nazwisko! powinno pojawić się twoje imię i nazwisko\n",
        "# wykorzystać zmienne name, surname oraz funckję print\n",
        "name = \n",
        "surname = \n",
        "# print ... dalej twoja kolej"
      ],
      "execution_count": 0,
      "outputs": []
    },
    {
      "cell_type": "markdown",
      "metadata": {
        "id": "TTnLSo-zWe2Q",
        "colab_type": "text"
      },
      "source": [
        "### Listy i pętle\n",
        "\n",
        "Oprócz typów prostych możemy przechowywać także kolekcje. Najprostszym typem kolkcji jest lista. Listę zapisujemy w nawiasach kwadratowych `[a, b, c]`\n"
      ]
    },
    {
      "cell_type": "code",
      "metadata": {
        "id": "P4QaOZewtxpW",
        "colab_type": "code",
        "colab": {}
      },
      "source": [
        "# deklarowanie listy\n",
        "friends = ['Jan', 'Michal', 'Arek']\n",
        "print(friends)\n",
        "\n",
        "# dodawanie do listy\n",
        "friends.append('Filip')\n",
        "print(friends)\n",
        "\n",
        "# dostęp do elementów listy poprzez indeksy\n",
        "print(friends[1])\n",
        "\n",
        "# usuwanie z listy\n",
        "friends.pop(2)\n",
        "print(friends)"
      ],
      "execution_count": 0,
      "outputs": []
    },
    {
      "cell_type": "markdown",
      "metadata": {
        "id": "3gipGow-ve1N",
        "colab_type": "text"
      },
      "source": [
        "Chcemy każdemu wypisać wiadomość powitalną w postaci `Hi {friend}`. Możemy oczywiście to zrobić wypisując każdy print osobno, ale lepiej wykorzystać pętle for."
      ]
    },
    {
      "cell_type": "code",
      "metadata": {
        "id": "OEsYCCtbwX-L",
        "colab_type": "code",
        "colab": {}
      },
      "source": [
        "for f in friends:\n",
        "  print('Hi {}'.format(f))"
      ],
      "execution_count": 0,
      "outputs": []
    },
    {
      "cell_type": "markdown",
      "metadata": {
        "id": "_cGw-SuPwlYo",
        "colab_type": "text"
      },
      "source": [
        "Inny przykład. Obliczanie wartości funkcji `f(x)=2*x^2 - 3x + 5` od -5 do 5 z krokiem 1"
      ]
    },
    {
      "cell_type": "code",
      "metadata": {
        "id": "P0Yu9Htfw14d",
        "colab_type": "code",
        "colab": {}
      },
      "source": [
        "print('f(x)=2*x^2 - 3x + 5')\n",
        "for x in range(-5,5):\n",
        "  y = 2*x*x - 3*x + 5\n",
        "  print('{}  {}'.format(x,y))"
      ],
      "execution_count": 0,
      "outputs": []
    },
    {
      "cell_type": "markdown",
      "metadata": {
        "id": "yz6mXEcoxW1i",
        "colab_type": "text"
      },
      "source": [
        "Zauważcie, że `range` zakończył wyliczanie na 4. Dzieje się tak, ponieważ prawy kraniec zakresu będzie pierwszym elementem, który nie będzie wypisany.\n",
        "\n",
        "Co jeżeli chcemy przechować wartości i wykorzystać jest później np. do rysunku?\n",
        "Możemy przecież dodawać do listy"
      ]
    },
    {
      "cell_type": "code",
      "metadata": {
        "id": "HnRgiY6AyCPs",
        "colab_type": "code",
        "colab": {}
      },
      "source": [
        "arguments = []\n",
        "values = []\n",
        "for i in range(-5,6):\n",
        "  arguments.append(i)\n",
        "  values.append(2*i*i - 3*i + 5)\n",
        "\n",
        "for x,y in zip(arguments,values):\n",
        "  print('{}  {}'.format(x,y))\n",
        "\n",
        "from matplotlib import pyplot as plt\n",
        "plt.plot(arguments,values)\n",
        "plt.show()"
      ],
      "execution_count": 0,
      "outputs": []
    },
    {
      "cell_type": "markdown",
      "metadata": {
        "id": "GDyIDjxc2ryP",
        "colab_type": "text"
      },
      "source": [
        "Teraz nie potrzebujemy całej list ale jedynie jej część. Ponownie wykorzystujemy nawiasy kwadratowe `list[beg:end:step]`"
      ]
    },
    {
      "cell_type": "code",
      "metadata": {
        "id": "nmGIwBO03ALC",
        "colab_type": "code",
        "colab": {}
      },
      "source": [
        "x = [i for i in range(-5,6,1)]\n",
        "print(x)\n",
        "print(x[2:5:2])"
      ],
      "execution_count": 0,
      "outputs": []
    },
    {
      "cell_type": "markdown",
      "metadata": {
        "id": "X3hkmo4R3VJW",
        "colab_type": "text"
      },
      "source": [
        "`beg`, `end` oraz `step` jeżeli ich nie podamy przyjmują wartości domyślne\n",
        "\n",
        "`beg = 0`\n",
        "\n",
        "`end = collection length`\n",
        "\n",
        "`step = 1`\n"
      ]
    },
    {
      "cell_type": "code",
      "metadata": {
        "id": "_90GXFa431Dv",
        "colab_type": "code",
        "colab": {}
      },
      "source": [
        "print(x[:5])              # pierwsze pięć elementów\n",
        "print(x[2:5])             # od trzeciego do piątego\n",
        "print(x[int(len(x)/2):])  # od połowy do końca\n",
        "print(x[::2])             # co drugi element\n",
        "print(x[::-1])            # od końca do początku"
      ],
      "execution_count": 0,
      "outputs": []
    },
    {
      "cell_type": "markdown",
      "metadata": {
        "id": "kGmR6OQkzg3P",
        "colab_type": "text"
      },
      "source": [
        "Przypisywanie do nowych zmiennych"
      ]
    },
    {
      "cell_type": "code",
      "metadata": {
        "id": "lxOLBy8wzqBk",
        "colab_type": "code",
        "colab": {}
      },
      "source": [
        "a = [1,2,3,4]\n",
        "b = a\n",
        "b.append(4)\n",
        "print(a)\n",
        "print(b)"
      ],
      "execution_count": 0,
      "outputs": []
    },
    {
      "cell_type": "markdown",
      "metadata": {
        "id": "YKCMIQ99z3h5",
        "colab_type": "text"
      },
      "source": [
        "Zmienna przechowuje tak na prawdę wskaźnik na listę, a nie samą listę. A jak to jest z typami prostymi?"
      ]
    },
    {
      "cell_type": "code",
      "metadata": {
        "id": "JUnWa9gn0KTS",
        "colab_type": "code",
        "colab": {}
      },
      "source": [
        "a = 1\n",
        "b = a\n",
        "b = b + 1\n",
        "print(a)\n",
        "print(b)"
      ],
      "execution_count": 0,
      "outputs": []
    },
    {
      "cell_type": "code",
      "metadata": {
        "id": "sMIP-plt0RBZ",
        "colab_type": "code",
        "colab": {}
      },
      "source": [
        "a = 'a'\n",
        "b = a\n",
        "b = b+'b'\n",
        "print(a)\n",
        "print(b)"
      ],
      "execution_count": 0,
      "outputs": []
    },
    {
      "cell_type": "markdown",
      "metadata": {
        "id": "smKQ_Id30sCR",
        "colab_type": "text"
      },
      "source": [
        "**Zadanie 1**\n",
        "\n",
        "W liście elems znaleźć element maksymalny oraz minimalny. \n",
        "\n",
        "Wyniki zapisać pod zmiennymi `max_elem` oraz `min_elem`. Na końcu wypisać znalezione elementy."
      ]
    },
    {
      "cell_type": "code",
      "metadata": {
        "id": "Qano57rw1Bdt",
        "colab_type": "code",
        "colab": {}
      },
      "source": [
        "from random import seed\n",
        "from random import random\n",
        "seed(123) # żeby wszscy mieli te same wyniki\n",
        "elems = [int(100*random()) for i in range(10000)]\n",
        "print(elems[:5])\n",
        "\n",
        "max_elem = -1\n",
        "min_elem = 101\n",
        "\n",
        "# miejsce na algorytm"
      ],
      "execution_count": 0,
      "outputs": []
    },
    {
      "cell_type": "markdown",
      "metadata": {
        "id": "Btqln0Xo4vA0",
        "colab_type": "text"
      },
      "source": [
        "**Zadanie 2**\n",
        "\n",
        "Z podanej poniżej listy osób wyodrębinić osobne dwie listy: imion oraz nazwisk\n",
        "\n",
        "W celu podziału stringa wykorzystać metodę `split()`. [Opis w W3School](https://www.w3schools.com/python/ref_string_split.asp)"
      ]
    },
    {
      "cell_type": "code",
      "metadata": {
        "id": "03Ar2d6e5T_V",
        "colab_type": "code",
        "colab": {}
      },
      "source": [
        "people = [\n",
        "          \"Jan Kowalski\",\n",
        "          \"Dawid Lamecki\",\n",
        "          \"Andrzej Mycka\",\n",
        "          \"Krzysztof Królak\",\n",
        "          \"Rafał Kowalczyk\",\n",
        "          \"Mirosław Mastalerz\"\n",
        "]\n",
        "print(people)\n",
        "# miejsce na algorytm"
      ],
      "execution_count": 0,
      "outputs": []
    }
  ]
}