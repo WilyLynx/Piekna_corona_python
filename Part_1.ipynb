{
  "nbformat": 4,
  "nbformat_minor": 0,
  "metadata": {
    "colab": {
      "name": "Python_podstawy.ipynb",
      "provenance": [],
      "private_outputs": true,
      "authorship_tag": "ABX9TyPgfw7VB8DKspGqMzGQtITC",
      "include_colab_link": true
    },
    "kernelspec": {
      "name": "python3",
      "display_name": "Python 3"
    }
  },
  "cells": [
    {
      "cell_type": "markdown",
      "metadata": {
        "id": "view-in-github",
        "colab_type": "text"
      },
      "source": [
        "<a href=\"https://colab.research.google.com/github/WilyLynx/Piekna_corona_python/blob/master/Part_1.ipynb\" target=\"_parent\"><img src=\"https://colab.research.google.com/assets/colab-badge.svg\" alt=\"Open In Colab\"/></a>"
      ]
    },
    {
      "cell_type": "markdown",
      "metadata": {
        "id": "1IIGdcrqB_V2",
        "colab_type": "text"
      },
      "source": [
        "##Podstawy języka python\n",
        "Dlaczego właśnie python?\n",
        "- język interpretowany\n",
        "- czytelność kodu\n",
        "- stosunkowo łatwy do nauki\n",
        "- popularny\n",
        "\n",
        "![Popularność języków programowania 2010-2020](https://camo.githubusercontent.com/0b134b936fd1b39c69cfc7d2d0a7330cb5efec30/68747470733a2f2f6e7363686c6f652e6769746875622e696f2f706f70756c61722d6f6e2d737461636b6f766572666c6f772f70726f6772616d6d696e672d6c616e6775616765732e737667)\n",
        "\n",
        "*Źródło: StackOverflow*"
      ]
    },
    {
      "cell_type": "markdown",
      "metadata": {
        "id": "n04Fg2I5ESzZ",
        "colab_type": "text"
      },
      "source": [
        "### Krótki poradnik jak używać notebooka Jupyter\n",
        "Jupyter składa się komórek dwóch typów:\n",
        "1. tekstowych - nic szczególnego \n",
        "2. kod - ciekawsze\n",
        "\n",
        "Jeżeli chcecie edytować notebook musicie zapisać sobie jego kopię. Najprostszy sposób to wejście przez File -> Save a copy in Drive. W ten sposób zapiszecie kopię tego notebooka na swoim Google Drive (trzeba mieć konto na Google). \n",
        "\n",
        "Jeżeli chcecie edytować komórkę wystarczy kliknąć dwukrotnie. \n",
        "\n",
        "Przejdźmy teraz do uruchamiania komórek. \n",
        "1. Klikamy w komórkę z kodem\n",
        "2. Ikonka play po lewo lub Ctrl + Enter"
      ]
    },
    {
      "cell_type": "code",
      "metadata": {
        "id": "0NSNUj-QIk4T",
        "colab_type": "code",
        "colab": {}
      },
      "source": [
        "# Zadanie 1: \n",
        "# uruchom tą komórkę\n",
        "print(\"Hello world!!!\")"
      ],
      "execution_count": 0,
      "outputs": []
    },
    {
      "cell_type": "markdown",
      "metadata": {
        "id": "EaG5g7yEL730",
        "colab_type": "text"
      },
      "source": [
        "### Zmienne i wypisywanie \n",
        "Zmienne są pewną nazwą, która programista przydziela liczbom, napisom...\n",
        "W odróżnieniu od np C++ przy deklaracji zmiennej nie musimy podawać typu zmiennej. Typ jest określany w momencie pierwszego przypisania."
      ]
    },
    {
      "cell_type": "code",
      "metadata": {
        "id": "JTiAhsTqRQcU",
        "colab_type": "code",
        "colab": {}
      },
      "source": [
        "a = 4 # przypisanie wartości 4 do zmiennej a\n",
        "b = \"tekst\" # przypisanie wartości \"tekst\" do zmiennej b"
      ],
      "execution_count": 0,
      "outputs": []
    },
    {
      "cell_type": "markdown",
      "metadata": {
        "id": "Ke4U1yltRndL",
        "colab_type": "text"
      },
      "source": [
        "Dwa podstawowe typy do oczywiście liczby i napisy. \n",
        "\n",
        "W pythonie nie ma rozróżnienia pomiędzy liczbami całkowitymi (int) oraz zmiennoprzecinkowymi (float, double).\n",
        "\n",
        "Pracując z napisami należy pamiętać, że napis musimy zawieścić wewnątrz znaków \"\" lub ''.\n",
        "\n",
        "Na początek przyda nam się też funkcja print, dzięki której możemy wypisać rezultat programu."
      ]
    },
    {
      "cell_type": "code",
      "metadata": {
        "id": "XkDV9IISSs69",
        "colab_type": "code",
        "colab": {}
      },
      "source": [
        "num = 3\n",
        "text = \"tekst 2\"\n",
        "print(num)\n",
        "print(text)"
      ],
      "execution_count": 0,
      "outputs": []
    },
    {
      "cell_type": "markdown",
      "metadata": {
        "id": "BmqGr8eATR_h",
        "colab_type": "text"
      },
      "source": [
        "Co jeżeli chcemy złożyć napis z kilku zmiennych?\n",
        "\n",
        "Oczywiście jest kilka opcji:\n",
        "1. użycie + służącego do łączenia napisów\n",
        "2. wykorzystanie metody str.format\n"
      ]
    },
    {
      "cell_type": "code",
      "metadata": {
        "id": "NvIT00njUOLV",
        "colab_type": "code",
        "colab": {}
      },
      "source": [
        "x1 = '1'\n",
        "y1 = '2'\n",
        "x2 = '2'\n",
        "y2 = '3'\n",
        "function_name = \"linear\"\n",
        "function_eq = 'f(x)=x+1'\n",
        "print('Function name: ' + function_name)\n",
        "print('Equation: ' + function_eq)\n",
        "print('Example values:')\n",
        "print('x = {} y = {}'.format(x1, y1))\n",
        "print('x = {} y = {}'.format(x2, y2))"
      ],
      "execution_count": 0,
      "outputs": []
    },
    {
      "cell_type": "markdown",
      "metadata": {
        "id": "n7F5G96jWz5z",
        "colab_type": "text"
      },
      "source": [
        "Składnia `napis1 + napis2` oznacza tyle co 'połącz napis1 oraz napis2 i zwróć rezultat'.\n",
        "\n",
        "W przypadku metody format `{}` symbolizuje miejsce w który ma być wstawiona kolejna zmienna podana w metodzie format. Uwaga na kropkę przed format !!!"
      ]
    },
    {
      "cell_type": "code",
      "metadata": {
        "id": "6-Jsy6L1X6hK",
        "colab_type": "code",
        "colab": {}
      },
      "source": [
        "# Zadanie 2\n",
        "# Napisz kod który wypiszę podany napis\n",
        "# Nazywam sie !imie! . Moje nazwisko to !nazwisko! .\n",
        "# zamiast !imie!, !nazwisko! powinno pojawić się twoje imię i nazwisko\n",
        "# wykorzystać zmienne name, surname oraz funckję print\n",
        "name = \n",
        "surname = \n",
        "# print ... dalej twoja kole"
      ],
      "execution_count": 0,
      "outputs": []
    },
    {
      "cell_type": "markdown",
      "metadata": {
        "id": "TTnLSo-zWe2Q",
        "colab_type": "text"
      },
      "source": [
        "### Pętle\n",
        "Kontynuujemy wypisywanie wartości funkcji liniowej f(x)=x+1\n",
        "\n",
        "Powiedzmy że chcemy w tabelce wypisać wartości funkcji dla argumentów od 1 do 10. Oczywiście możemy stworzyć 22 zmiennych, ale będzie to czasochłonne.\n",
        "\n",
        " Na ratunek przychodzą pętle.\n",
        "\n",
        " Uruchom poniższą komórkę i przeanalizuj wynik\n",
        "\n"
      ]
    },
    {
      "cell_type": "code",
      "metadata": {
        "id": "sh4XWaUeZAJV",
        "colab_type": "code",
        "colab": {}
      },
      "source": [
        "print(\"f(x)=x+1\")\n",
        "print(\"x   f(x)\")\n",
        "for x in range(1,11,1):\n",
        "  f_x = x+1\n",
        "  print(\"{}   {}\".format(x, f_x))"
      ],
      "execution_count": 0,
      "outputs": []
    },
    {
      "cell_type": "markdown",
      "metadata": {
        "id": "zySWWwQgZnjj",
        "colab_type": "text"
      },
      "source": [
        "Co tu się dzieje?\n",
        "\n",
        "`for x in kolekcja:` - dla każdego x z kolekcji\n",
        "\n",
        "`range(start, stop, step)` - kolekcja liczb [start, stop) z krokiem 1. Uwaga stop jest pierwszą liczbą która NIE będzie wypisana\n",
        "\n",
        "W pythonie nie mamy klamerek { }, za to używamy wcięć. Linijki 4, 5 stanowią tzw. 'ciało pętli' czyli wykonają się dla każdego x. Poniżej jeszcze jeden przykład na pętle"
      ]
    },
    {
      "cell_type": "code",
      "metadata": {
        "id": "jzGglsCwa767",
        "colab_type": "code",
        "colab": {}
      },
      "source": [
        "# w range możemy ominąć parametry start oraz step. W takim przypadku przyjmują on domyślną wartość 0 oraz 1\n",
        "for i in range(3): # tutaj uwaga na dwukropek\n",
        "  j = i\n",
        "print(j)\n",
        "\n",
        "# Dlaczego tutaj wypisuje się jedna wartość a pętla obróciła się trzy razy?"
      ],
      "execution_count": 0,
      "outputs": []
    }
  ]
}
