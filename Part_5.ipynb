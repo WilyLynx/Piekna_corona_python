{
  "nbformat": 4,
  "nbformat_minor": 0,
  "metadata": {
    "colab": {
      "name": "Part_5",
      "provenance": [],
      "private_outputs": true,
      "collapsed_sections": [],
      "authorship_tag": "ABX9TyM0IkFpxeGAR8I8V4EGlReP",
      "include_colab_link": true
    },
    "kernelspec": {
      "name": "python3",
      "display_name": "Python 3"
    }
  },
  "cells": [
    {
      "cell_type": "markdown",
      "metadata": {
        "id": "view-in-github",
        "colab_type": "text"
      },
      "source": [
        "<a href=\"https://colab.research.google.com/github/WilyLynx/Piekna_corona_python/blob/master/Part_5.ipynb\" target=\"_parent\"><img src=\"https://colab.research.google.com/assets/colab-badge.svg\" alt=\"Open In Colab\"/></a>"
      ]
    },
    {
      "cell_type": "markdown",
      "metadata": {
        "id": "Odw0UKr13fLo",
        "colab_type": "text"
      },
      "source": [
        "# Plotly"
      ]
    },
    {
      "cell_type": "markdown",
      "metadata": {
        "id": "x0XtjaOw3nU5",
        "colab_type": "text"
      },
      "source": [
        "## Mapy w plotly"
      ]
    },
    {
      "cell_type": "markdown",
      "metadata": {
        "id": "8tKL3eGk7sEc",
        "colab_type": "text"
      },
      "source": [
        "### GEOJSON"
      ]
    },
    {
      "cell_type": "markdown",
      "metadata": {
        "id": "MWWYejSu4ydl",
        "colab_type": "text"
      },
      "source": [
        "Na początek potrzebujemy pliku w formacie GEOJSON, który zawiera kontury interesujących nas obszarów. W tym celu wykorzystamy pliki znajdujące się na tym [repozytorium](https://github.com/ppatrzyk/polska-geojson)."
      ]
    },
    {
      "cell_type": "code",
      "metadata": {
        "id": "vy7zXCNG3mvn",
        "colab_type": "code",
        "colab": {}
      },
      "source": [
        "from urllib.request import urlopen\n",
        "import json\n",
        "with urlopen('https://raw.githubusercontent.com/ppatrzyk/polska-geojson/master/powiaty/powiaty-min.geojson') as response:\n",
        "    powiaty = json.load(response)\n",
        "\n",
        "powiaty[\"features\"][0]"
      ],
      "execution_count": 0,
      "outputs": []
    },
    {
      "cell_type": "markdown",
      "metadata": {
        "id": "p8hCqzHi6zIP",
        "colab_type": "text"
      },
      "source": [
        "Jak widzimy na dane poszczególnych powiatow składaja się lista wielokąt reprezentujący powiat. Dla nas interesującą właściwością jest pole id wewnątrz pola properties. Id wykorzystamy do *połączenia* naszych danych z mapą. Jeżeli chcemy znaleźć id konkretnego powiatu najlepiej wejść na stronę repozytorium."
      ]
    },
    {
      "cell_type": "markdown",
      "metadata": {
        "id": "Mt0WgRGy7wZQ",
        "colab_type": "text"
      },
      "source": [
        "### Przygotowanie danych\n",
        "Musimy przygotować dane do połączenia z mapą. Dane przygotujemy w postaci jednej ramki danych z kolumną **id**, która reprezentuje powiat."
      ]
    },
    {
      "cell_type": "code",
      "metadata": {
        "id": "W7D9YHv58C1-",
        "colab_type": "code",
        "colab": {}
      },
      "source": [
        "import pandas as pd\n",
        "import numpy as np\n",
        "import json\n",
        "import requests"
      ],
      "execution_count": 0,
      "outputs": []
    },
    {
      "cell_type": "code",
      "metadata": {
        "id": "w3Zf4vcH8Fv0",
        "colab_type": "code",
        "colab": {}
      },
      "source": [
        "def read_patryk_files(url):\n",
        "  raw_json = requests.request(\"GET\", url).content\n",
        "  data = json.loads(raw_json)['data']\n",
        "  df =  pd.DataFrame(data, columns=['Data', 'Kwarantanna', 'Hospitalizowani', 'Potwierdzone przypadki', 'Ozdrowieńcy', 'Zgony'])\n",
        "  df.loc[:, 'Data'] = pd.to_datetime(df['Data'],format='%d.%m.%Y')\n",
        "  return df\n",
        "\n",
        "\n",
        "url = \"https://raw.githubusercontent.com/WilyLynx/Piekna_corona_python/master/data/minsk-psse.json\"\n",
        "minsk_df = read_patryk_files(url)\n",
        "minsk_df['Powiat'] = ['miński' for i in range(len(minsk_df))] # tutaj dodaje nazwe powiatu\n",
        "minsk_df['id'] = [217 for i in range(len(minsk_df))] # a tutaj id powiatu\n",
        "minsk_df.head()"
      ],
      "execution_count": 0,
      "outputs": []
    },
    {
      "cell_type": "code",
      "metadata": {
        "id": "k2qpBhd18JnJ",
        "colab_type": "code",
        "colab": {}
      },
      "source": [
        "# To samo jeszcze dla dwóch powiatów\n",
        "url = \"https://raw.githubusercontent.com/WilyLynx/Piekna_corona_python/master/data/siedlce-psse.json\"\n",
        "siedlce_df = read_patryk_files(url)\n",
        "siedlce_df['Powiat'] = ['siedlecki' for i in range(len(siedlce_df))]\n",
        "siedlce_df['id'] = [120 for i in range(len(siedlce_df))]\n",
        "siedlce_df.head()"
      ],
      "execution_count": 0,
      "outputs": []
    },
    {
      "cell_type": "code",
      "metadata": {
        "id": "uqaWOFAu8La1",
        "colab_type": "code",
        "colab": {}
      },
      "source": [
        "url = \"https://raw.githubusercontent.com/WilyLynx/Piekna_corona_python/master/data/lipsko-psse.json\"\n",
        "lipsko_df = read_patryk_files(url)\n",
        "lipsko_df['Powiat'] = ['lipski' for i in range(len(lipsko_df))]\n",
        "lipsko_df['id'] = [122 for i in range(len(lipsko_df))]\n",
        "lipsko_df.head()"
      ],
      "execution_count": 0,
      "outputs": []
    },
    {
      "cell_type": "code",
      "metadata": {
        "id": "l4wR6ONS82qA",
        "colab_type": "code",
        "colab": {}
      },
      "source": [
        "# Łączenie danych do jednej ramki\n",
        "covid_df = pd.concat([minsk_df, siedlce_df, lipsko_df], axis=0)\n",
        "covid_df['Ozdrowieńcy'].fillna(value=0, inplace=True)\n",
        "covid_df['Zgony'].fillna(value=0, inplace=True)\n",
        "covid_df['Aktywne'] = covid_df['Potwierdzone przypadki'] - covid_df['Ozdrowieńcy'] - covid_df['Zgony']\n",
        "covid_df.head()"
      ],
      "execution_count": 0,
      "outputs": []
    },
    {
      "cell_type": "markdown",
      "metadata": {
        "id": "XgaLX5cS9Dx-",
        "colab_type": "text"
      },
      "source": [
        "## Mapa "
      ]
    },
    {
      "cell_type": "markdown",
      "metadata": {
        "id": "aeBmzXByDnIb",
        "colab_type": "text"
      },
      "source": [
        "Update plotly do najnowszej wersji okazał się niezbędny"
      ]
    },
    {
      "cell_type": "code",
      "metadata": {
        "id": "ymBEO3rsCBHX",
        "colab_type": "code",
        "colab": {}
      },
      "source": [
        "pip install -U plotly"
      ],
      "execution_count": 0,
      "outputs": []
    },
    {
      "cell_type": "code",
      "metadata": {
        "id": "iSuiYKt29Fx-",
        "colab_type": "code",
        "colab": {}
      },
      "source": [
        "import plotly.express as px\n",
        "single_day_df = covid_df[covid_df['Data'] == '2020-05-10']\n",
        "\n",
        "fig = px.choropleth_mapbox(single_day_df, geojson=powiaty, locations='id', color='Aktywne',\n",
        "                           featureidkey=\"properties.id\",\n",
        "                           color_continuous_scale=\"Viridis\",\n",
        "                           mapbox_style=\"carto-positron\",\n",
        "                           zoom=6.5, center = {\"lat\": 52.232222, \"lon\": 21.008333},\n",
        "                           opacity=0.5,\n",
        "                          )\n",
        "fig.update_layout(margin={\"r\":0,\"t\":0,\"l\":0,\"b\":0})\n",
        "\n",
        "fig.show()"
      ],
      "execution_count": 0,
      "outputs": []
    },
    {
      "cell_type": "markdown",
      "metadata": {
        "id": "4sIIKOt-Q-Im",
        "colab_type": "text"
      },
      "source": [
        "Wykorzytajmy teraz właściwość animation_frame "
      ]
    },
    {
      "cell_type": "code",
      "metadata": {
        "id": "H6xLrsSRQ9st",
        "colab_type": "code",
        "colab": {}
      },
      "source": [
        "import plotly.express as px\n",
        "\n",
        "covid_df.sort_values(by='Data', inplace=True, ascending=True) # brzydki sposób na to, żeby daty wyświetlały się w dobrej kolejności w animacji\n",
        "covid_df['Data'] = [str(date) for date in covid_df['Data']]\n",
        "\n",
        "fig = px.choropleth_mapbox(covid_df, geojson=powiaty, locations='id', color='Aktywne',\n",
        "                           animation_frame  = 'Data',\n",
        "                           range_color = (0, covid_df['Aktywne'].max()),\n",
        "                           featureidkey=\"properties.id\",\n",
        "                           color_continuous_scale=\"Viridis\",\n",
        "                           mapbox_style=\"carto-positron\",\n",
        "                           zoom=6, center = {\"lat\": 52.232222, \"lon\": 21.008333},\n",
        "                           opacity=0.5,\n",
        "                           labels={'Aktywne':'Przypadki aktywne'}\n",
        "                          )\n",
        "fig.update_layout(\n",
        "    margin={\"r\":0,\"t\":0,\"l\":0,\"b\":0},\n",
        "    annotations = [dict(\n",
        "        x=0.95,\n",
        "        y=0.1,\n",
        "        xref='paper',\n",
        "        yref='paper',\n",
        "        text='Dane pozyskane ze stron powiatowych stacji epidemiologicznych',\n",
        "        showarrow = False\n",
        "    )]\n",
        "    )\n",
        "\n",
        "\n",
        "fig.show()"
      ],
      "execution_count": 0,
      "outputs": []
    }
  ]
}