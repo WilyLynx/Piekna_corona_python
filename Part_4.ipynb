{
  "nbformat": 4,
  "nbformat_minor": 0,
  "metadata": {
    "colab": {
      "name": "Part_4",
      "provenance": [],
      "private_outputs": true,
      "authorship_tag": "ABX9TyM8MC81YkwOShY+kXj7dAH9",
      "include_colab_link": true
    },
    "kernelspec": {
      "name": "python3",
      "display_name": "Python 3"
    }
  },
  "cells": [
    {
      "cell_type": "markdown",
      "metadata": {
        "id": "view-in-github",
        "colab_type": "text"
      },
      "source": [
        "<a href=\"https://colab.research.google.com/github/WilyLynx/Piekna_corona_python/blob/master/Part_4.ipynb\" target=\"_parent\"><img src=\"https://colab.research.google.com/assets/colab-badge.svg\" alt=\"Open In Colab\"/></a>"
      ]
    },
    {
      "cell_type": "markdown",
      "metadata": {
        "id": "qSSl4_CZpY8Z",
        "colab_type": "text"
      },
      "source": [
        "# DASH\n",
        "czyli o tym jak stworzyć prostą aplikację do wizualizacji."
      ]
    },
    {
      "cell_type": "markdown",
      "metadata": {
        "id": "DZ-1ZNcDp0YR",
        "colab_type": "text"
      },
      "source": [
        "Dash jest freamworkiem pozwalającym na stworzenie w krótkim czasie prostych aplikacji analitycznych.\n",
        "\n",
        "DEMO:\n",
        "\n",
        "![Alt Text](https://images.prismic.io/plotly-marketing-website/db073c29-5cee-4f13-9adf-46dd136f45f4_ezgif.com-video-to-gif+%2811%29.gif?auto=compress,format)\n",
        "\n",
        "Źródło: [https://plotly.com/dash/](https://plotly.com/dash/)"
      ]
    },
    {
      "cell_type": "markdown",
      "metadata": {
        "id": "PL5HtS9Vtccu",
        "colab_type": "text"
      },
      "source": [
        "## Pierwsza aplikacja w Dash'u"
      ]
    },
    {
      "cell_type": "markdown",
      "metadata": {
        "id": "VQ9jgCbXskic",
        "colab_type": "text"
      },
      "source": [
        "UWAGA!!!\n",
        "\n",
        "poniższe programy nie zadziałają bezpośrednio z Google Colab. Poniższy kod trzeba zapisać w formie pliku app.py i uruchomić z IDE lub command line poleceniem python app.py\n",
        "\n",
        "Trzeba mieć też zainstalowane pakiety dash, dash_core_components oraz dash_html_components."
      ]
    },
    {
      "cell_type": "code",
      "metadata": {
        "id": "YD_q1cj0rqgp",
        "colab_type": "code",
        "colab": {}
      },
      "source": [
        "import dash\n",
        "import dash_core_components as dcc\n",
        "import dash_html_components as html\n",
        "\n",
        "external_stylesheets = ['https://codepen.io/chriddyp/pen/bWLwgP.css']\n",
        "\n",
        "app = dash.Dash(__name__, external_stylesheets=external_stylesheets)\n",
        "\n",
        "app.layout = html.Div(children=[\n",
        "    html.H1(children='Hello Dash'),\n",
        "\n",
        "    html.Div(children='''\n",
        "        Dash: A web application framework for Python.\n",
        "    '''),\n",
        "\n",
        "    dcc.Graph(\n",
        "        id='example-graph',\n",
        "        figure={\n",
        "            'data': [\n",
        "                {'x': [1, 2, 3], 'y': [4, 1, 2], 'type': 'bar', 'name': 'SF'},\n",
        "                {'x': [1, 2, 3], 'y': [2, 4, 5], 'type': 'bar', 'name': u'Montréal'},\n",
        "            ],\n",
        "            'layout': {\n",
        "                'title': 'Dash Data Visualization'\n",
        "            }\n",
        "        }\n",
        "    )\n",
        "])\n",
        "\n",
        "if __name__ == '__main__':\n",
        "    app.run_server(debug=True)"
      ],
      "execution_count": 0,
      "outputs": []
    },
    {
      "cell_type": "markdown",
      "metadata": {
        "id": "XyHHw-YUNj90",
        "colab_type": "text"
      },
      "source": [
        "Dash pozwala na budowanie strony internetowej przy pomocy znaczników HTML. Najciekawszym elementem jest obiekt dcc.Graph, w którym można umieszczać wykresy stworzone w Plotly."
      ]
    },
    {
      "cell_type": "markdown",
      "metadata": {
        "id": "SNFGwtcyN-Bh",
        "colab_type": "text"
      },
      "source": [
        "## Plotly\n",
        "Plotly jest biblioteką umożliwiającą stworzenie interaktywnych wykresów w Pythonie. Link do dokumentacji: [https://plotly.com/python/](https://plotly.com/python/)"
      ]
    },
    {
      "cell_type": "code",
      "metadata": {
        "id": "9XeCqw1RN_1Q",
        "colab_type": "code",
        "colab": {}
      },
      "source": [
        "import plotly.graph_objects as go\n",
        "fig = go.Figure(\n",
        "    data=[go.Bar(y=[2, 2, 3])],\n",
        "    layout_title_text=\"A Figure Displayed with fig.show()\"\n",
        ")\n",
        "fig.show()"
      ],
      "execution_count": 0,
      "outputs": []
    },
    {
      "cell_type": "markdown",
      "metadata": {
        "id": "obemiVbVQV9r",
        "colab_type": "text"
      },
      "source": [
        "### Wykresy dla danych z DataFrame"
      ]
    },
    {
      "cell_type": "code",
      "metadata": {
        "id": "r3_UoUt0O4ma",
        "colab_type": "code",
        "colab": {}
      },
      "source": [
        "import pandas as pd\n",
        "import numpy as np\n",
        "import json\n",
        "import requests"
      ],
      "execution_count": 0,
      "outputs": []
    },
    {
      "cell_type": "code",
      "metadata": {
        "id": "WyzWpHx4QUrT",
        "colab_type": "code",
        "colab": {}
      },
      "source": [
        "def read_grzegorz_files(url):\n",
        "  raw_json = requests.request(\"GET\", url).content\n",
        "  data = json.loads(raw_json)['data']\n",
        "  df =  pd.DataFrame(data, columns=['Data', 'Kwarantanna', 'Hospitalizowani', 'Potwierdzone przypadki', 'Ozdrowieńcy', 'Zgony'])\n",
        "  df.loc[:, 'Data'] = pd.to_datetime(df['Data'],format='%d.%m.%Y')\n",
        "  return df\n",
        "\n",
        "\n",
        "url = \"https://raw.githubusercontent.com/WilyLynx/Piekna_corona_python/master/data/minsk-psse.json\"\n",
        "minsk_df = read_grzegorz_files(url)\n",
        "minsk_df.head()"
      ],
      "execution_count": 0,
      "outputs": []
    },
    {
      "cell_type": "code",
      "metadata": {
        "id": "iVtVeTOIUeDn",
        "colab_type": "code",
        "colab": {}
      },
      "source": [
        "import plotly.graph_objects as go\n",
        "\n",
        "fig = go.Figure(go.Scatter(\n",
        "    x = minsk_df['Data'],\n",
        "    y = minsk_df['Kwarantanna']\n",
        "))\n",
        "fig.show()"
      ],
      "execution_count": 0,
      "outputs": []
    },
    {
      "cell_type": "code",
      "metadata": {
        "id": "iDwYjyH_VjiU",
        "colab_type": "code",
        "colab": {}
      },
      "source": [
        "import plotly.graph_objects as go\n",
        "\n",
        "fig = go.Figure(go.Scatter(\n",
        "    x = minsk_df['Data'],\n",
        "    y = minsk_df['Kwarantanna']\n",
        "))\n",
        "fig.update_xaxes(rangeslider_visible=True)\n",
        "fig.update_layout(\n",
        "    title=\"Liczba osób poddanych kwarantannie\"\n",
        ")\n",
        "fig.show()"
      ],
      "execution_count": 0,
      "outputs": []
    },
    {
      "cell_type": "code",
      "metadata": {
        "id": "0cwboYURXHUW",
        "colab_type": "code",
        "colab": {}
      },
      "source": [
        "url = \"https://raw.githubusercontent.com/WilyLynx/Piekna_corona_python/master/data/siedlce-psse.json\"\n",
        "siedlce_df = read_grzegorz_files(url)\n",
        "siedlce_df.head()"
      ],
      "execution_count": 0,
      "outputs": []
    },
    {
      "cell_type": "code",
      "metadata": {
        "id": "Kzw_jbfMXbgm",
        "colab_type": "code",
        "colab": {}
      },
      "source": [
        "import plotly.graph_objects as go\n",
        "\n",
        "fig = go.Figure()\n",
        "fig.add_trace(go.Scatter(\n",
        "    x = minsk_df['Data'],\n",
        "    y = minsk_df['Kwarantanna'],\n",
        "    name='Mińsk Mazowiecki'\n",
        "))\n",
        "fig.add_trace(go.Scatter(\n",
        "    x = siedlce_df['Data'],\n",
        "    y = siedlce_df['Kwarantanna'],\n",
        "    name='Siedlce'\n",
        "))\n",
        "fig.update_xaxes(rangeslider_visible=True)\n",
        "fig.update_layout(\n",
        "    title=\"Liczba osób poddanych kwarantannie\"\n",
        ")\n",
        "fig.show()"
      ],
      "execution_count": 0,
      "outputs": []
    },
    {
      "cell_type": "code",
      "metadata": {
        "id": "GPYyyzFvcsyl",
        "colab_type": "code",
        "colab": {}
      },
      "source": [
        "minsk_df['Powiat'] = ['miński' for i in range(len(minsk_df))]\n",
        "siedlce_df['Powiat'] = ['siedlecki' for i in range(len(siedlce_df))]\n",
        "covid_df = pd.concat([minsk_df, siedlce_df], axis=0)\n",
        "covid_df['Ozdrowieńcy'].fillna(value=0, inplace=True)\n",
        "covid_df['Zgony'].fillna(value=0, inplace=True)\n",
        "covid_df['Aktywne'] = covid_df['Potwierdzone przypadki'] - covid_df['Ozdrowieńcy'] - covid_df['Zgony']\n",
        "covid_df.tail()"
      ],
      "execution_count": 0,
      "outputs": []
    },
    {
      "cell_type": "code",
      "metadata": {
        "id": "GJJoDEdKddtK",
        "colab_type": "code",
        "colab": {}
      },
      "source": [
        "# Express \n",
        "import plotly.express as px\n",
        "fig = px.line(covid_df, x='Data', y='Aktywne', color='Powiat')\n",
        "fig.show()"
      ],
      "execution_count": 0,
      "outputs": []
    }
  ]
}